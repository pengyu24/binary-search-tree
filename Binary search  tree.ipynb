{
 "cells": [
  {
   "cell_type": "code",
   "execution_count": 31,
   "metadata": {},
   "outputs": [],
   "source": [
    "class TreeNode:\n",
    "    def __init__(self,val,left=None,right=None):\n",
    "        self.value = val\n",
    "        self.leftChild = left\n",
    "        self.rightChild = right"
   ]
  },
  {
   "cell_type": "code",
   "execution_count": 32,
   "metadata": {},
   "outputs": [],
   "source": [
    "def search(value,node):\n",
    "    if node is None or node.value == value:\n",
    "        return node\n",
    "    elif node.value < value:\n",
    "        return search(value,node.rightChild)\n",
    "    else:\n",
    "        return search(value,node.leftChild)"
   ]
  },
  {
   "cell_type": "code",
   "execution_count": 33,
   "metadata": {},
   "outputs": [],
   "source": [
    "def insert(value,node):\n",
    "    if value<node.value:\n",
    "        if node.leftChild is None:\n",
    "            node.leftChild = TreeNode(value)\n",
    "        else:\n",
    "            insert(value,node.leftChild)\n",
    "    if value>node.value:\n",
    "        if node.rightChild is None:\n",
    "            node.rightChild = TreeNode(value)\n",
    "        else:\n",
    "            insert(value,node.rightChild)   "
   ]
  },
  {
   "cell_type": "code",
   "execution_count": 41,
   "metadata": {},
   "outputs": [],
   "source": [
    "def delete(valuetodelete,node):\n",
    "    if node is None:\n",
    "        return None\n",
    "    elif valuetodelete < node.value:\n",
    "        node.leftChild = delete(valuetodelete,node.leftChild)\n",
    "        return node\n",
    "    elif valuetodelete > node.value:\n",
    "        node.rightChild = delete(valuetodelete,node.rightChild)\n",
    "        return node\n",
    "    elif valuetodelete == node.value:\n",
    "        if node.leftChild == None:\n",
    "            return node.rightChild\n",
    "        elif node.rightChild == None:\n",
    "            return node.leftChild\n",
    "        else:\n",
    "            node.rightChild = lift(node.rightChild,node)\n",
    "            return node\n",
    "            \n",
    "def lift(node,nodetodelete):\n",
    "    if node.leftChild:\n",
    "        node.leftChild = lift(node.leftChild,nodetodelete)\n",
    "        return node\n",
    "    else:\n",
    "        nodetodelete.value = node.value\n",
    "        return node.rightChild"
   ]
  },
  {
   "cell_type": "code",
   "execution_count": 42,
   "metadata": {},
   "outputs": [],
   "source": [
    "#post order\n",
    "def preorder(node):\n",
    "    if not node:\n",
    "        return None\n",
    "    print(node.value)\n",
    "    preorder(node.leftChild)\n",
    "    preorder(node.rightChild)"
   ]
  },
  {
   "cell_type": "code",
   "execution_count": 43,
   "metadata": {},
   "outputs": [],
   "source": [
    "#inroder\n",
    "def inorder(node):\n",
    "    if not node:\n",
    "        return None\n",
    "    inorder(node.leftChild)\n",
    "    print(node.value)\n",
    "    inorder(node.rightChild)"
   ]
  },
  {
   "cell_type": "code",
   "execution_count": 50,
   "metadata": {},
   "outputs": [],
   "source": [
    "#postorder\n",
    "def postorder(node):\n",
    "    if not node:\n",
    "        return None\n",
    "    inorder(node.leftChild)\n",
    "    inorder(node.rightChild)\n",
    "    print(node.value)"
   ]
  },
  {
   "cell_type": "code",
   "execution_count": 61,
   "metadata": {},
   "outputs": [],
   "source": [
    "#layerorder\n",
    "def layerorder(node):\n",
    "    if not node:\n",
    "        return None\n",
    "    \n",
    "    l = []\n",
    "    l.append(node)\n",
    "    while len(l)>0:\n",
    "        temp = l.pop(0)\n",
    "        print(temp.value)\n",
    "        if temp.leftChild:\n",
    "            l.append(temp.leftChild)\n",
    "        if temp.rightChild:\n",
    "            l.append(temp.rightChild)"
   ]
  }
 ],
 "metadata": {
  "kernelspec": {
   "display_name": "Python 3",
   "language": "python",
   "name": "python3"
  },
  "language_info": {
   "codemirror_mode": {
    "name": "ipython",
    "version": 3
   },
   "file_extension": ".py",
   "mimetype": "text/x-python",
   "name": "python",
   "nbconvert_exporter": "python",
   "pygments_lexer": "ipython3",
   "version": "3.8.3"
  }
 },
 "nbformat": 4,
 "nbformat_minor": 4
}
